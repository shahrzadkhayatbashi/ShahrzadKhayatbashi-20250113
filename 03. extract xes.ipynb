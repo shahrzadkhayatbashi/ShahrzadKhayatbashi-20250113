{
 "cells": [
  {
   "cell_type": "code",
   "execution_count": 1,
   "id": "8fe420f1",
   "metadata": {},
   "outputs": [],
   "source": [
    "import numpy as np\n",
    "import pandas as pd\n",
    "import datetime\n",
    "import matplotlib\n",
    "import matplotlib.pyplot as plt\n",
    "from matplotlib import colors\n",
    "import gc\n",
    "import os"
   ]
  },
  {
   "cell_type": "markdown",
   "id": "992c0547",
   "metadata": {},
   "source": [
    "# Reading Data"
   ]
  },
  {
   "cell_type": "code",
   "execution_count": 2,
   "id": "2cbd6b2e",
   "metadata": {},
   "outputs": [],
   "source": [
    "# Here, I separated environment folder with data folder, so I can work on smaller sample of data when developing and then resue the same code in production.\n",
    "\n",
    "# folder where data exists\n",
    "data_folder = './data'\n",
    "# the environment folder \n",
    "env_folder = 'prod' \n",
    "\n",
    "file_path = os.path.join(data_folder, env_folder)"
   ]
  },
  {
   "cell_type": "code",
   "execution_count": 3,
   "id": "20fc8e81",
   "metadata": {},
   "outputs": [],
   "source": [
    "# name of cleaned input datasets\n",
    "order_file_name = 'cleaned_orders.parquet'\n",
    "errand_file_name = 'cleaned_errands.parquet'"
   ]
  },
  {
   "cell_type": "code",
   "execution_count": 4,
   "id": "b15757ca",
   "metadata": {},
   "outputs": [],
   "source": [
    "# Reading the data from given environment as datafframes \n",
    "df_orders =  pd.read_parquet( os.path.join(file_path,  order_file_name))\n",
    "df_errands = pd.read_parquet( os.path.join(file_path,  errand_file_name))"
   ]
  },
  {
   "cell_type": "code",
   "execution_count": 5,
   "id": "ade49121",
   "metadata": {},
   "outputs": [
    {
     "name": "stdout",
     "output_type": "stream",
     "text": [
      "There are in total 6,300,206 orders and 2,680,892 errands.\n"
     ]
    }
   ],
   "source": [
    "print(\n",
    "    'There are in total {:,} orders and {:,} errands.'.format(\n",
    "        len(df_orders), len(df_errands)\n",
    "    )\n",
    ")"
   ]
  },
  {
   "cell_type": "markdown",
   "id": "953e260c",
   "metadata": {},
   "source": [
    "In this analysis, we are only interested to see the ones for which we have recorded journeys meaning the customer had contacted us, thus we do an innerjoin and disregards other rows."
   ]
  },
  {
   "cell_type": "code",
   "execution_count": 6,
   "id": "dbac9a95",
   "metadata": {},
   "outputs": [],
   "source": [
    "# merging two datasets and only keep orders with recorded errands\n",
    "df = df_orders.merge(df_errands, on='order_id')"
   ]
  },
  {
   "cell_type": "code",
   "execution_count": 7,
   "id": "2ec8caa8",
   "metadata": {},
   "outputs": [
    {
     "data": {
      "text/plain": [
       "order_id                              0\n",
       "PNR                                   0\n",
       "order_created_at                      0\n",
       "booking_system                        0\n",
       "Site_Country                          0\n",
       "Brand                                 0\n",
       "Order_Amount                          0\n",
       "currency                              0\n",
       "Revenue                               0\n",
       "Partner                               0\n",
       "Customer_Group_Type                   0\n",
       "Device                                0\n",
       "client_entry_type                     0\n",
       "booking_system_source_type            0\n",
       "Origin_Country                        0\n",
       "Destination_Country                   0\n",
       "Journey_Type_ID                       0\n",
       "Is_Changed                            0\n",
       "Is_Canceled                           0\n",
       "cancel_reason                         0\n",
       "change_reason                         0\n",
       "number_of_PNR                         0\n",
       "week_start_day                        0\n",
       "currency_code                         0\n",
       "currency_to_use_conversion_rate       0\n",
       "Order_Amount_in_USD                   0\n",
       "Revenue_in_USD                        0\n",
       "number_of_booking_system              0\n",
       "order_number                          0\n",
       "errand_id                             0\n",
       "created                               0\n",
       "errand_category                       0\n",
       "errand_type                           3\n",
       "errand_action                      2184\n",
       "errand_channel                        0\n",
       "is_test_errand                        0\n",
       "errand_action_code                 2184\n",
       "errand_action_name                 2184\n",
       "dtype: int64"
      ]
     },
     "execution_count": 7,
     "metadata": {},
     "output_type": "execute_result"
    }
   ],
   "source": [
    "# Checking number of nulls\n",
    "df.isnull().sum()"
   ]
  },
  {
   "cell_type": "markdown",
   "id": "aa1f5af9",
   "metadata": {},
   "source": [
    "As the data is huge, we delete previous data frame and free the memory. "
   ]
  },
  {
   "cell_type": "code",
   "execution_count": 8,
   "id": "c289c22b",
   "metadata": {},
   "outputs": [
    {
     "data": {
      "text/plain": [
       "0"
      ]
     },
     "execution_count": 8,
     "metadata": {},
     "output_type": "execute_result"
    }
   ],
   "source": [
    "# removing dataframes from memory to improve performance\n",
    "del df_orders, df_errands\n",
    "gc.collect()"
   ]
  },
  {
   "cell_type": "code",
   "execution_count": 9,
   "id": "75fb9e8a",
   "metadata": {},
   "outputs": [
    {
     "name": "stdout",
     "output_type": "stream",
     "text": [
      "There are in total 2,680,892 records in combined dataset.\n"
     ]
    }
   ],
   "source": [
    "print(\n",
    "    'There are in total {:,} records in combined dataset.'.format(\n",
    "        len(df)\n",
    "    )\n",
    ")"
   ]
  },
  {
   "cell_type": "code",
   "execution_count": 10,
   "id": "b9813629",
   "metadata": {},
   "outputs": [
    {
     "name": "stdout",
     "output_type": "stream",
     "text": [
      "Here are the list of columns:  order_id, PNR, order_created_at, booking_system, Site_Country, Brand, Order_Amount, currency, Revenue, Partner, Customer_Group_Type, Device, client_entry_type, booking_system_source_type, Origin_Country, Destination_Country, Journey_Type_ID, Is_Changed, Is_Canceled, cancel_reason, change_reason, number_of_PNR, week_start_day, currency_code, currency_to_use_conversion_rate, Order_Amount_in_USD, Revenue_in_USD, number_of_booking_system, order_number, errand_id, created, errand_category, errand_type, errand_action, errand_channel, is_test_errand, errand_action_code, errand_action_name\n"
     ]
    }
   ],
   "source": [
    "print(\n",
    "    'Here are the list of columns: ', \n",
    "    ', '.join(df.columns)\n",
    ")"
   ]
  },
  {
   "cell_type": "code",
   "execution_count": 11,
   "id": "6c53edf2",
   "metadata": {},
   "outputs": [],
   "source": [
    "# Here, I am renaming columns to have the common prefix to manage it in an easier way\n",
    "\n",
    "selecetd_columns = [\n",
    "    # grain is in errand level\n",
    "    'errand_id', 'created', 'errand_category', 'errand_type',  'errand_channel',    \n",
    "    # order level data\n",
    "    'order_id', 'order_created_at', 'Order_Amount_in_USD', 'Revenue_in_USD',\n",
    "    'booking_system', 'number_of_booking_system', \n",
    "    'Site_Country', 'Brand', 'Partner', 'booking_system_source_type', \n",
    "    'Customer_Group_Type', 'Device', 'client_entry_type',\n",
    "    'Journey_Type_ID', 'number_of_PNR',\n",
    "    # important labels\n",
    "    'Is_Changed', 'Is_Canceled',\n",
    "    # descriptive resaons \n",
    "    'change_reason', 'cancel_reason',\n",
    "    # action taken\n",
    "    'errand_action_code', # shall this be mapped to errand_category ?\n",
    "    'errand_action_name'\n",
    "]\n",
    "\n",
    "\n",
    "\n",
    "columns_orders = {\n",
    "    'order_id': 'order:id', \n",
    "    'order_created_at': 'order:timestamp', \n",
    "    'Order_Amount_in_USD': 'order:amount',  \n",
    "    'Revenue_in_USD': 'order:revenue', \n",
    "    'booking_system': 'order:booking_system', \n",
    "    'number_of_booking_system': 'order:num_of_booking_system', \n",
    "    'Site_Country': 'order:country', \n",
    "    'Brand': 'order:brand', \n",
    "    'Partner': 'order:partner', \n",
    "    'booking_system_source_type': 'order:booking_system_type', \n",
    "    'Customer_Group_Type': 'order:customer_group_type', \n",
    "    'Device': 'order:device', \n",
    "    'client_entry_type': 'order:client_entry_type', \n",
    "    'Journey_Type_ID': 'order:journey_type_id', \n",
    "    'number_of_PNR': 'order:num_of_pnr', \n",
    "    #\n",
    "    'Is_Changed': 'order:is_changed', \n",
    "    'Is_Canceled': 'order:is_cancelled',\n",
    "    'change_reason': 'order:change_reason', \n",
    "    'cancel_reason': 'order:cancel_reason',\n",
    "}\n",
    "\n",
    "\n",
    "columns_errands = {\n",
    "    'errand_id': 'errand:id', \n",
    "    'created': 'errand:timestamp', \n",
    "    'errand_category': 'errand:category', \n",
    "    'errand_type': 'errand:type',  \n",
    "    'errand_channel': 'errand:channel',    \n",
    "    'errand_action_code': 'errand:action_code', \n",
    "    'errand_action_name': 'errand:action_name'\n",
    "}\n"
   ]
  },
  {
   "cell_type": "code",
   "execution_count": 12,
   "id": "334cb711",
   "metadata": {},
   "outputs": [],
   "source": [
    "# Limitting the columns to selected ones \n",
    "df = df[selecetd_columns]"
   ]
  },
  {
   "cell_type": "code",
   "execution_count": 13,
   "id": "f7fdb5c4",
   "metadata": {},
   "outputs": [
    {
     "data": {
      "text/html": [
       "<div>\n",
       "<style scoped>\n",
       "    .dataframe tbody tr th:only-of-type {\n",
       "        vertical-align: middle;\n",
       "    }\n",
       "\n",
       "    .dataframe tbody tr th {\n",
       "        vertical-align: top;\n",
       "    }\n",
       "\n",
       "    .dataframe thead th {\n",
       "        text-align: right;\n",
       "    }\n",
       "</style>\n",
       "<table border=\"1\" class=\"dataframe\">\n",
       "  <thead>\n",
       "    <tr style=\"text-align: right;\">\n",
       "      <th></th>\n",
       "      <th>errand_id</th>\n",
       "      <th>created</th>\n",
       "      <th>errand_category</th>\n",
       "      <th>errand_type</th>\n",
       "      <th>errand_channel</th>\n",
       "      <th>order_id</th>\n",
       "      <th>order_created_at</th>\n",
       "      <th>Order_Amount_in_USD</th>\n",
       "      <th>Revenue_in_USD</th>\n",
       "      <th>booking_system</th>\n",
       "      <th>...</th>\n",
       "      <th>Device</th>\n",
       "      <th>client_entry_type</th>\n",
       "      <th>Journey_Type_ID</th>\n",
       "      <th>number_of_PNR</th>\n",
       "      <th>Is_Changed</th>\n",
       "      <th>Is_Canceled</th>\n",
       "      <th>change_reason</th>\n",
       "      <th>cancel_reason</th>\n",
       "      <th>errand_action_code</th>\n",
       "      <th>errand_action_name</th>\n",
       "    </tr>\n",
       "  </thead>\n",
       "  <tbody>\n",
       "    <tr>\n",
       "      <th>25002</th>\n",
       "      <td>52969341</td>\n",
       "      <td>2024-01-09 09:02:00</td>\n",
       "      <td>23: Legal and Authority Claims Team</td>\n",
       "      <td>None</td>\n",
       "      <td>2: Mail In</td>\n",
       "      <td>4607875866</td>\n",
       "      <td>2024-01-02 09:04:04</td>\n",
       "      <td>2786.770362</td>\n",
       "      <td>9.120100</td>\n",
       "      <td>System E</td>\n",
       "      <td>...</td>\n",
       "      <td>iPhone</td>\n",
       "      <td>b2bapi</td>\n",
       "      <td>OpenJawDouble</td>\n",
       "      <td>1</td>\n",
       "      <td>0</td>\n",
       "      <td>0</td>\n",
       "      <td>Initial - Not Changed</td>\n",
       "      <td>Undefined</td>\n",
       "      <td>1</td>\n",
       "      <td>Mail In</td>\n",
       "    </tr>\n",
       "    <tr>\n",
       "      <th>52178</th>\n",
       "      <td>52954329</td>\n",
       "      <td>2024-01-09 01:13:52</td>\n",
       "      <td>23: Legal and Authority Claims Team</td>\n",
       "      <td>None</td>\n",
       "      <td>1: Phone In</td>\n",
       "      <td>4607915354</td>\n",
       "      <td>2024-01-03 04:13:28</td>\n",
       "      <td>1233.830698</td>\n",
       "      <td>-34.456071</td>\n",
       "      <td>System E</td>\n",
       "      <td>...</td>\n",
       "      <td>PC</td>\n",
       "      <td>metasearch</td>\n",
       "      <td>One-way</td>\n",
       "      <td>2</td>\n",
       "      <td>0</td>\n",
       "      <td>0</td>\n",
       "      <td>Initial - Not Changed</td>\n",
       "      <td>Undefined</td>\n",
       "      <td>5</td>\n",
       "      <td>5. Force Majeure</td>\n",
       "    </tr>\n",
       "    <tr>\n",
       "      <th>66741</th>\n",
       "      <td>52954328</td>\n",
       "      <td>2024-01-09 01:13:50</td>\n",
       "      <td>23: Legal and Authority Claims Team</td>\n",
       "      <td>None</td>\n",
       "      <td>1: Phone In</td>\n",
       "      <td>4607088462</td>\n",
       "      <td>2024-01-03 16:31:15</td>\n",
       "      <td>655.239731</td>\n",
       "      <td>16.267452</td>\n",
       "      <td>System E,System B</td>\n",
       "      <td>...</td>\n",
       "      <td>PC</td>\n",
       "      <td>metasearch</td>\n",
       "      <td>One-way</td>\n",
       "      <td>2</td>\n",
       "      <td>0</td>\n",
       "      <td>0</td>\n",
       "      <td>Initial - Not Changed</td>\n",
       "      <td>Undefined</td>\n",
       "      <td>5</td>\n",
       "      <td>5. Force Majeure</td>\n",
       "    </tr>\n",
       "  </tbody>\n",
       "</table>\n",
       "<p>3 rows × 26 columns</p>\n",
       "</div>"
      ],
      "text/plain": [
       "       errand_id             created                      errand_category  \\\n",
       "25002   52969341 2024-01-09 09:02:00  23: Legal and Authority Claims Team   \n",
       "52178   52954329 2024-01-09 01:13:52  23: Legal and Authority Claims Team   \n",
       "66741   52954328 2024-01-09 01:13:50  23: Legal and Authority Claims Team   \n",
       "\n",
       "      errand_type errand_channel    order_id    order_created_at  \\\n",
       "25002        None     2: Mail In  4607875866 2024-01-02 09:04:04   \n",
       "52178        None    1: Phone In  4607915354 2024-01-03 04:13:28   \n",
       "66741        None    1: Phone In  4607088462 2024-01-03 16:31:15   \n",
       "\n",
       "       Order_Amount_in_USD  Revenue_in_USD     booking_system  ...  Device  \\\n",
       "25002          2786.770362        9.120100           System E  ...  iPhone   \n",
       "52178          1233.830698      -34.456071           System E  ...      PC   \n",
       "66741           655.239731       16.267452  System E,System B  ...      PC   \n",
       "\n",
       "      client_entry_type Journey_Type_ID number_of_PNR Is_Changed Is_Canceled  \\\n",
       "25002            b2bapi   OpenJawDouble             1          0           0   \n",
       "52178        metasearch         One-way             2          0           0   \n",
       "66741        metasearch         One-way             2          0           0   \n",
       "\n",
       "               change_reason cancel_reason errand_action_code  \\\n",
       "25002  Initial - Not Changed     Undefined                  1   \n",
       "52178  Initial - Not Changed     Undefined                  5   \n",
       "66741  Initial - Not Changed     Undefined                  5   \n",
       "\n",
       "       errand_action_name  \n",
       "25002             Mail In  \n",
       "52178    5. Force Majeure  \n",
       "66741    5. Force Majeure  \n",
       "\n",
       "[3 rows x 26 columns]"
      ]
     },
     "execution_count": 13,
     "metadata": {},
     "output_type": "execute_result"
    }
   ],
   "source": [
    "# checking rows when errand_type is null\n",
    "df[df['errand_type'].isna()]"
   ]
  },
  {
   "cell_type": "code",
   "execution_count": 14,
   "id": "133e0f33",
   "metadata": {},
   "outputs": [
    {
     "data": {
      "text/plain": [
       "2680892"
      ]
     },
     "execution_count": 14,
     "metadata": {},
     "output_type": "execute_result"
    }
   ],
   "source": [
    "# Checking total number of rows\n",
    "len(df)"
   ]
  },
  {
   "cell_type": "markdown",
   "id": "94b28b42",
   "metadata": {},
   "source": [
    "The following reports are only valid for orders where there is at least one errand for it. "
   ]
  },
  {
   "cell_type": "code",
   "execution_count": 15,
   "id": "82d2e6ac",
   "metadata": {},
   "outputs": [],
   "source": [
    "# renaimg columns of the dataframes to new names \n",
    "df = df.rename(columns=columns_orders)\n",
    "df = df.rename(columns=columns_errands)"
   ]
  },
  {
   "cell_type": "code",
   "execution_count": 16,
   "id": "8b2f2691",
   "metadata": {},
   "outputs": [],
   "source": [
    "# save for analysis and machine learning\n",
    "df.to_parquet(os.path.join(file_path, 'errands_orders_cleaned.parquet'))"
   ]
  },
  {
   "cell_type": "code",
   "execution_count": 17,
   "id": "a2e8c26e",
   "metadata": {},
   "outputs": [],
   "source": [
    "# changing the feature value to enable filtering orders where only one booking system is used\n",
    "df['order:booking_system'] = df.apply(\n",
    "    lambda row: 'combined' if row['order:num_of_booking_system'] > 1 else row['order:booking_system'],\n",
    "    axis=1\n",
    ")"
   ]
  },
  {
   "cell_type": "code",
   "execution_count": 18,
   "id": "26ab682b",
   "metadata": {},
   "outputs": [
    {
     "data": {
      "text/plain": [
       "2680892"
      ]
     },
     "execution_count": 18,
     "metadata": {},
     "output_type": "execute_result"
    }
   ],
   "source": [
    "# checking total number of rows\n",
    "len(df)"
   ]
  },
  {
   "cell_type": "code",
   "execution_count": 19,
   "id": "83a966ee",
   "metadata": {},
   "outputs": [
    {
     "data": {
      "text/plain": [
       "errand:id                         0\n",
       "errand:timestamp                  0\n",
       "errand:category                   0\n",
       "errand:type                       3\n",
       "errand:channel                    0\n",
       "order:id                          0\n",
       "order:timestamp                   0\n",
       "order:amount                      0\n",
       "order:revenue                     0\n",
       "order:booking_system              0\n",
       "order:num_of_booking_system       0\n",
       "order:country                     0\n",
       "order:brand                       0\n",
       "order:partner                     0\n",
       "order:booking_system_type         0\n",
       "order:customer_group_type         0\n",
       "order:device                      0\n",
       "order:client_entry_type           0\n",
       "order:journey_type_id             0\n",
       "order:num_of_pnr                  0\n",
       "order:is_changed                  0\n",
       "order:is_cancelled                0\n",
       "order:change_reason               0\n",
       "order:cancel_reason               0\n",
       "errand:action_code             2184\n",
       "errand:action_name             2184\n",
       "dtype: int64"
      ]
     },
     "execution_count": 19,
     "metadata": {},
     "output_type": "execute_result"
    }
   ],
   "source": [
    "# checking number of nulls\n",
    "df.isnull().sum()"
   ]
  },
  {
   "cell_type": "markdown",
   "id": "af10e14f",
   "metadata": {},
   "source": [
    "# Extract XES"
   ]
  },
  {
   "cell_type": "code",
   "execution_count": 20,
   "id": "03a95d53",
   "metadata": {},
   "outputs": [],
   "source": [
    "# renaming dataframe and map case identifier, task identifier and timestamp and rename them for processs mining\n",
    "df_xes = df[list(df.columns[df.columns.str.startswith('errand:')])+['order:id']].rename(columns={\n",
    "    'order:id': 'case:concept:name',\n",
    "    'errand:action_name': 'concept:name',\n",
    "    'errand:timestamp': 'time:timestamp',\n",
    "}).copy()"
   ]
  },
  {
   "cell_type": "code",
   "execution_count": 21,
   "id": "f2b57eba",
   "metadata": {},
   "outputs": [],
   "source": [
    "# adding create event for all orders \n",
    "df_xes_order = df[df.columns[df.columns.str.startswith('order:')]].drop_duplicates().reset_index(drop=True).copy()\n",
    "df_xes_order['concept:name'] = 'create order'\n",
    "df_xes_order = df_xes_order.rename(columns={\n",
    "    'order:id': 'case:concept:name',\n",
    "    'order:timestamp': 'time:timestamp',\n",
    "})"
   ]
  },
  {
   "cell_type": "code",
   "execution_count": 22,
   "id": "308e78f5",
   "metadata": {},
   "outputs": [],
   "source": [
    "# saving the transformed data for upcoming analysis (process mining)\n",
    "df_xes.to_parquet(os.path.join(file_path,'xes.parquet'))"
   ]
  },
  {
   "cell_type": "code",
   "execution_count": null,
   "id": "aaa9d813",
   "metadata": {},
   "outputs": [],
   "source": []
  },
  {
   "cell_type": "code",
   "execution_count": null,
   "id": "cfbfe629",
   "metadata": {},
   "outputs": [],
   "source": []
  }
 ],
 "metadata": {
  "kernelspec": {
   "display_name": "Python 3 (ipykernel)",
   "language": "python",
   "name": "python3"
  },
  "language_info": {
   "codemirror_mode": {
    "name": "ipython",
    "version": 3
   },
   "file_extension": ".py",
   "mimetype": "text/x-python",
   "name": "python",
   "nbconvert_exporter": "python",
   "pygments_lexer": "ipython3",
   "version": "3.8.10"
  }
 },
 "nbformat": 4,
 "nbformat_minor": 5
}
